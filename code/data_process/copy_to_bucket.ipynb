{
 "cells": [
  {
   "cell_type": "code",
   "execution_count": 2,
   "metadata": {},
   "outputs": [
    {
     "name": "stdout",
     "output_type": "stream",
     "text": [
      "finished!\n"
     ]
    }
   ],
   "source": [
    "import moxing as mox\n",
    "\n",
    "OBS_DATA_PATH = \"s3://r2-ship-arr-time/ship_ETA_final/code\"\n",
    "# OBS_DATA_PATH = \"s3://r2-ship-arr-time/code\"\n",
    "LOCAL_DATA_PATH = '../../dataset/code/'\n",
    "# LOCAL_DATA_PATH = '../../dataset/train_DeepFM/'\n",
    "\n",
    "mox.file.copy_parallel(LOCAL_DATA_PATH, OBS_DATA_PATH)\n",
    "# mox.file.copy_parallel(OBS_DATA_PATH, LOCAL_DATA_PATH)\n",
    "print('finished!')"
   ]
  },
  {
   "cell_type": "code",
   "execution_count": null,
   "metadata": {},
   "outputs": [],
   "source": []
  },
  {
   "cell_type": "code",
   "execution_count": null,
   "metadata": {},
   "outputs": [],
   "source": []
  }
 ],
 "metadata": {
  "kernelspec": {
   "display_name": "XGBoost-Sklearn",
   "language": "python",
   "name": "xgboost-sklearn"
  },
  "language_info": {
   "codemirror_mode": {
    "name": "ipython",
    "version": 3
   },
   "file_extension": ".py",
   "mimetype": "text/x-python",
   "name": "python",
   "nbconvert_exporter": "python",
   "pygments_lexer": "ipython3",
   "version": "3.6.2"
  }
 },
 "nbformat": 4,
 "nbformat_minor": 4
}
