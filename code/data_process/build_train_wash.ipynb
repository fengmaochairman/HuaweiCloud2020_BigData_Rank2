{
 "cells": [
  {
   "cell_type": "code",
   "execution_count": 4,
   "metadata": {},
   "outputs": [
    {
     "name": "stdout",
     "output_type": "stream",
     "text": [
      "in_trace:119\n",
      "trace_list length: 185\n",
      "trace_list length: ['BRSSZ-CNSHK', 'BRSSZ-HKHKG', 'CNCWN-NLRTM', 'CNCWN-SGSIN', 'CNDCB-SGSIN', 'CNHKG-ARBUE', 'CNHKG-BDCGP', 'CNHKG-BRSSZ', 'CNHKG-DOSDQ', 'CNHKG-ESVLC', 'CNHKG-IDJKT', 'CNHKG-JPTYO', 'CNHKG-KRINC', 'CNHKG-LKCMB', 'CNHKG-MXZLO', 'CNHKG-MYPKG', 'CNHKG-RUVVO', 'CNHKG-TOKYO', 'CNHKG-ZADUR', 'CNNSA-CGPNR-CMKBI', 'CNNSA-CMKBI', 'CNNSA-MYTPP-SGSIN-ZACPT-CGPNR-GALBV-CMKBI', 'CNNSA-SGSIN-AEJEA', 'CNSHA-SGSIN', 'CNSHK-AEJEA', 'CNSHK-AEJEA-BHBAH', 'CNSHK-AEJEA-KWSWK', 'CNSHK-ARENA', 'CNSHK-BDCGP', 'CNSHK-BHBAH', 'CNSHK-BRSSZ', 'CNSHK-BZBZE', 'CNSHK-CLSAI', 'CNSHK-CLSAN', 'CNSHK-CLVAP', 'CNSHK-CNNSA-MYPKG-INNSA', 'CNSHK-CNNSA-SGSIN-MYPKG-INNSA', 'CNSHK-CNNSA-SGSIN-MYPKG-INNSA-PKKHI', 'CNSHK-CNXMN-JPTYO', 'CNSHK-DOCAU', 'CNSHK-EGPSD', 'CNSHK-EGPSE', 'CNSHK-ESVAL', 'CNSHK-GRPIR', 'CNSHK-GRPIR-ITSPE-ITGOA', 'CNSHK-HAKATA', 'CNSHK-HKHKG-TWKHH-CNNBG-CNSHA-CNTAO-KRPUS-MXZLO-PABLB-PAMIT-COCTG-JMKIN-DOCAU', 'CNSHK-HRRJK', 'CNSHK-IDJAK', 'CNSHK-IDJKT', 'CNSHK-INBOM', 'CNSHK-INNSA', 'CNSHK-INNSA-LKCMB-AEJEA-AEAUH-KWKWI', 'CNSHK-JPFUK', 'CNSHK-JPHKT', 'CNSHK-JPTYO', 'CNSHK-KHKOS', 'CNSHK-KOP', 'CNSHK-KRICH', 'CNSHK-KRINC', 'CNSHK-LKCMB', 'CNSHK-MXZLO', 'CNSHK-MYPKG', 'CNSHK-MYPKG-INCOC-INNSA', 'CNSHK-MYPKG-INNSA', 'CNSHK-MYTPP', 'CNSHK-MYTPP-MUPLU-ZADUR', 'CNSHK-NZAKL', 'CNSHK-OMSOH', 'CNSHK-PHBTG', 'CNSHK-PKKCT', 'CNSHK-PKKHI', 'CNSHK-PKQCT', 'CNSHK-RJK', 'CNSHK-SADAM', 'CNSHK-SADMM', 'CNSHK-SGSIN', 'CNSHK-SGSIN-AEJEA', 'CNSHK-SGSIN-AEJEA-QAHMD-SADMM', 'CNSHK-SGSIN-AEJEA-QAHMD-SADMM-OMSOH', 'CNSHK-SGSIN-AEJEA-QAHMD-SADMM-OMSOH-SGSIN', 'CNSHK-SGSIN-AEKFA-AEAUH-AEJEA-OMSOH', 'CNSHK-SGSIN-BDCGP', 'CNSHK-SGSIN-EGPSD', 'CNSHK-SGSIN-EGSUZ-EGPSE-ILHFA-SIKOP', 'CNSHK-SGSIN-INMUN-MYPKG-PKKHI-PKBQM', 'CNSHK-SGSIN-INMUN-PKBQM-MYPKG-PKKHI', 'CNSHK-SGSIN-LKCMB', 'CNSHK-SGSIN-LKCMB-MYPKG-PKKHI', 'CNSHK-SGSIN-LKCMB-MYPKG-PKKHI-PKBQM', 'CNSHK-SGSIN-MTMLA-DZALG', 'CNSHK-SGSIN-MTMLA-SIKOP', 'CNSHK-SGSIN-MTMLA-SIKOP-ITTRS-HRRJK', 'CNSHK-SGSIN-MYPKG', 'CNSHK-SGSIN-MYPKG-INMUN-PKBQM-PKKHI', 'CNSHK-SGSIN-MYPKG-INMUN-PKKHI-PKBQM', 'CNSHK-SGSIN-MYPKG-LKCMB', 'CNSHK-SGSIN-MYPKG-LKCMB-INNSA', 'CNSHK-SGSIN-MYPKG-LKCMB-PKKHI', 'CNSHK-SGSIN-MYPKG-PKKHI-INMUN-PKBQM', 'CNSHK-SGSIN-MYPKG-QAHMD-SADMM-AEJEA-OMSOH', 'CNSHK-SGSIN-MYWSP-QAHMD-SADMM-AEJEA-OMSOH', 'CNSHK-SGSIN-PKBQM-MYPKG-INMUN-PKKHI', 'CNSHK-SGSIN-PKBQM-MYWSP-INMUN-PKKHI', 'CNSHK-SGSIN-PKKHI-INMUN-MYPKG-PKBQM', 'CNSHK-SGSIN-PKKHI-INMUN-PKBQM', 'CNSHK-SGSIN-QAHMD-SADMM-AEJEA-MYPKG-OMSOH', 'CNSHK-SGSIN-QAHMD-SADMM-AEJEA-OMSOH', 'CNSHK-SIKOP', 'CNSHK-THLCH', 'CNSHK-TOKYO', 'CNSHK-TRYAR', 'CNSHK-ZADUR', 'CNYTN-ARBUE', 'CNYTN-ARENA', 'CNYTN-BDCGP', 'CNYTN-BRSSZ', 'CNYTN-CAVAN', 'CNYTN-CLSAI', 'CNYTN-CLSAN', 'CNYTN-CNSHA-KRPUS-CAVAN', 'CNYTN-CNXAM-CNSGH-PAONX', 'CNYTN-CNXMN-CNNGB-CNSHA-RUVVO', 'CNYTN-CVRAI', 'CNYTN-EGSUZ-NLRTM', 'CNYTN-ESALG-CVRAI', 'CNYTN-ESVAL', 'CNYTN-ESVLC', 'CNYTN-FRLEH', 'CNYTN-GBFXT', 'CNYTN-GBSOU', 'CNYTN-GRPIR', 'CNYTN-GRPIR-HRRJK', 'CNYTN-HKHKG-AUBNE-NZAKL', 'CNYTN-HRRIJ', 'CNYTN-KHKOS', 'CNYTN-LKCMB', 'CNYTN-MACAS', 'CNYTN-MATNG', 'CNYTN-MATNG-MACAS', 'CNYTN-MTMLA', 'CNYTN-MTMLA-DZALG', 'CNYTN-MXZLO', 'CNYTN-MYTPP', 'CNYTN-MYTPP-EGSUE-ESALG-CVPRA', 'CNYTN-MYTPP-EGSUE-MACAS', 'CNYTN-MYTPP-EGSUE-MATNG-MACAS', 'CNYTN-MYTPP-NLRTM', 'CNYTN-NLROT', 'CNYTN-NLRTM', 'CNYTN-NZAKL', 'CNYTN-PAONX', 'CNYTN-PAONX-PACFZ', 'CNYTN-PHBTG', 'CNYTN-PIR', 'CNYTN-RJK', 'CNYTN-RTM', 'CNYTN-RUVVO', 'CNYTN-SGSIN', 'CNYTN-SGSIN-EGSUZ-GRPIR-ITSPE-ITGOA', 'CNYTN-SGSIN-GRPIR', 'CNYTN-SGSIN-LKCMB', 'CNYTN-SGSIN-MTMLA-DZALG', 'CNYTN-TWKHH-CAVAN', 'CNYTN-TWKHH-CNSHA-CNNBG-MXZLO', 'CNYTN-TWKHH-PAPAN-PAONX', 'CNYTN-VNVUT-SGSIN-FRLEH', 'HKG-KOP', 'HKG-TOKYO', 'HKHKG-ARBUE', 'HKHKG-BRSSZ', 'HKHKG-FRFOS', 'HKHKG-IDJAK', 'HKHKG-KHKOS', 'HKHKG-MXZLO', 'HKHKG-MYPKG', 'HKHKG-PHBTG', 'HKHKG-RUVVO', 'HKHKG-SGSIN', 'SGSIN-GRPIR', 'SHEKOU-JAKARTA', 'SHK-RJK', 'SIKOP-CNYTN', 'SIKOP-HKHKG', 'YANTIAN-COLON CONTAINER TERMINAL-COLON FREE TRADE ZONE']\n",
      "i:12\n",
      "888819\n",
      "888819\n",
      "888819\n",
      "read csv: 9.427819016999997 seconds\n",
      "i:13\n",
      "152299\n",
      "152299\n",
      "152297\n",
      "read csv: 11.168897793 seconds\n"
     ]
    }
   ],
   "source": [
    "# 生成train_wash\n",
    "# train_wash包含和测试集路由相同或相似的订单\n",
    "import pandas as pd\n",
    "import time\n",
    "import warnings\n",
    "warnings.filterwarnings('ignore')\n",
    "\n",
    "# 获取训练集中需要增加的trace\n",
    "def trace_count():\n",
    "    train_raw = pd.read_csv('../../dataset/order_data/B_order_info.csv')\n",
    "    test_raw = pd.read_csv('../../dataset/order_data/test_order_cluster.csv')\n",
    "\n",
    "    train_trace = train_raw.TRANSPORT_TRACE.unique()\n",
    "    train_trace_num = train_raw.trace.unique()\n",
    "    train_trace.sort()\n",
    "\n",
    "    test_trace = test_raw.TRANSPORT_TRACE.unique()\n",
    "    test_trace_num = test_raw.trace.unique()\n",
    "    test_trace.sort()\n",
    "\n",
    "    x = []\n",
    "    for i in range(len(train_trace)):\n",
    "        if train_trace[i] in test_trace:\n",
    "            pass\n",
    "        else:\n",
    "            train_trace_df = train_raw.loc[train_raw['TRANSPORT_TRACE'] == train_trace[i]].reset_index(drop = True)\n",
    "            trace_num = train_trace_df.loc[0, 'trace']\n",
    "            if (trace_num in test_trace_num):\n",
    "                x.append(train_trace[i])\n",
    "    print('in_trace:{}'.format(len(x)))\n",
    "    return x\n",
    "\n",
    "test_data_path = '../../dataset/test_data/B_testData0807.csv'\n",
    "test_df = pd.read_csv(test_data_path)\n",
    "\n",
    "test_trace = test_df.TRANSPORT_TRACE.unique().tolist()  # 测试集中trace\n",
    "train_trace = trace_count()  # 训练集中和测试集相似路由\n",
    "trace_list = test_trace + train_trace \n",
    "trace_list.sort()\n",
    "print('trace_list length: {}'.format(len(trace_list)))\n",
    "print('trace_list length: {}'.format(trace_list))\n",
    "\n",
    "start = time.process_time()\n",
    "for i in range(14):\n",
    "    print('i:{}'.format(i))\n",
    "    train_df = pd.read_csv('../../dataset/train_data/train_wash{}.csv'.format(i), header=None)\n",
    "    train_df.columns = ['loadingOrder', 'carrierName', 'timestamp', 'longitude',\n",
    "                        'latitude', 'vesselMMSI', 'speed', 'direction', 'vesselNextport',\n",
    "                        'vesselNextportETA', 'vesselStatus', 'vesselDatasource', 'TRANSPORT_TRACE']\n",
    "    print(len(train_df))\n",
    "    train_df = train_df.loc[(train_df['TRANSPORT_TRACE'].isin(trace_list))]\n",
    "    print(len(train_df))\n",
    "    \n",
    "    train_df['speed'] = train_df['speed'].astype(float)\n",
    "    train_df['direction'] = train_df['direction'].astype(float)\n",
    "    train_df = train_df[(train_df['speed'] < 60) &(train_df['direction'] <= 36000)]\n",
    "    print(len(train_df))\n",
    "    train_df.to_csv('../../dataset/train_wash/train_wash{}.csv'.format(i), index=False, header = None)\n",
    "    print('read csv: {} seconds'.format(time.process_time() - start))"
   ]
  },
  {
   "cell_type": "code",
   "execution_count": null,
   "metadata": {},
   "outputs": [],
   "source": []
  }
 ],
 "metadata": {
  "kernelspec": {
   "display_name": "Python 3",
   "language": "python",
   "name": "python3"
  },
  "language_info": {
   "codemirror_mode": {
    "name": "ipython",
    "version": 3
   },
   "file_extension": ".py",
   "mimetype": "text/x-python",
   "name": "python",
   "nbconvert_exporter": "python",
   "pygments_lexer": "ipython3",
   "version": "3.7.6"
  }
 },
 "nbformat": 4,
 "nbformat_minor": 4
}
