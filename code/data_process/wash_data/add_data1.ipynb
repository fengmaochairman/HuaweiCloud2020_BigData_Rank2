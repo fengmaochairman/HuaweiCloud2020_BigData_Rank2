{
 "cells": [
  {
   "cell_type": "code",
   "execution_count": 2,
   "metadata": {},
   "outputs": [
    {
     "name": "stdout",
     "output_type": "stream",
     "text": [
      "i:0\n",
      "11699\n",
      "read csv: 21.577813343000003 seconds\n",
      "i:1\n",
      "29391\n",
      "read csv: 42.338367291 seconds\n",
      "i:2\n",
      "13646\n",
      "read csv: 62.78736390900001 seconds\n",
      "i:3\n",
      "23191\n",
      "read csv: 82.598764887 seconds\n",
      "i:4\n",
      "46526\n",
      "read csv: 102.555585706 seconds\n",
      "i:5\n",
      "7348\n",
      "read csv: 122.42735291 seconds\n",
      "i:6\n",
      "26375\n",
      "read csv: 141.821444252 seconds\n",
      "i:7\n",
      "10897\n",
      "read csv: 162.28893915 seconds\n",
      "i:8\n",
      "14270\n",
      "read csv: 182.419450391 seconds\n",
      "i:9\n",
      "5679\n",
      "read csv: 202.251361926 seconds\n",
      "['AD630764258424' 'AN816773314999' 'BB481216170682' 'BM229728180245'\n",
      " 'CH960460352682' 'CV204130576045' 'EN166717805171' 'EP333215739038'\n",
      " 'FJ182986121226' 'FU671574873350' 'GG443276479484' 'GI588992231851'\n",
      " 'GK609116769573' 'GV339490340786' 'GZ761255367345' 'IN982461407858'\n",
      " 'JD126964391578' 'JD325596136708' 'JG899236270837' 'KN790971115916'\n",
      " 'KP627657768975' 'LJ805282186080' 'LO461000809239' 'LX987472656763'\n",
      " 'LZ488741474931' 'MM989004283769' 'NH701307199952' 'NV249066617378'\n",
      " 'NY446506407903' 'OV248063380637' 'OW246246833326' 'OW682184055914'\n",
      " 'PL269590329998' 'QK316472242619' 'QZ239373181585' 'RQ724728350869'\n",
      " 'RX747701438078' 'SY527576425427' 'TB268659705426' 'UO278945533373'\n",
      " 'VA183450811092' 'WA207584324600' 'WH556953254148' 'WR566205310626'\n",
      " 'WR708188572954' 'YL465830871055' 'ZM269419926061']\n",
      "finished!\n"
     ]
    }
   ],
   "source": [
    "# 放松清洗规则：只需路径和起始港和终点港匹配,距离小于500km（一般都小于200KM, 500KM是布达佩斯等内港口距离）\n",
    "# 步骤一：添加数据\n",
    "# 步骤二为apped_data.ipynb文件\n",
    "import pandas as pd\n",
    "import numpy as np\n",
    "import time\n",
    "import warnings\n",
    "warnings.filterwarnings('ignore')\n",
    "\n",
    "# 两步数据清洗后，不包含在训练集的测试集订单路由\n",
    "trace_list1 = ['CNNSA-MYTPP-SGSIN-ZACPT-CGPNR-GALBV-CMKBI', 'CNYTN-HRRIJ',\n",
    "               'CNSHK-HKHKG-TWKHH-CNNBG-CNSHA-CNTAO-KRPUS-MXZLO-PABLB-PAMIT-COCTG-JMKIN-DOCAU',\n",
    "               'CNSHK-INNSA-LKCMB-AEJEA-AEAUH-KWKWI', 'SGSIN-GRPIR', 'CNSHK-EGPSD', 'CNSHK-MYTPP', 'CNSHK-GRPIR', 'CNYTN-MTMLA',\n",
    "               'CNSHK-BZBZE', 'CNYTN-VNVUT-SGSIN-FRLEH', 'CNYTN-MYTPP', 'CNSHA-SGSIN', 'CNSHK-CLSAI', 'HKHKG-FRFOS', 'CNYTN-CVRAI']\n",
    "\n",
    "start = time.process_time()\n",
    "\n",
    "add_df = pd.DataFrame()\n",
    "for i in range(10):\n",
    "    print('i:{}'.format(i))\n",
    "    train_df = pd.read_csv('../../../dataset/chunk_data/train_data{}.csv'.format(i), header = None)\n",
    "    train_df.columns = ['loadingOrder', 'carrierName', 'timestamp', 'longitude',\n",
    "                          'latitude', 'vesselMMSI', 'speed', 'direction', 'vesselNextport',\n",
    "                          'vesselNextportETA', 'vesselStatus', 'vesselDatasource', 'TRANSPORT_TRACE']\n",
    "    \n",
    "    train_df = train_df.loc[(train_df['TRANSPORT_TRACE'].isin (trace_list1))]\n",
    "    train_df = train_df[(train_df['direction'] <= 36000) & (train_df['speed'] < 60)]\n",
    "    \n",
    "    add_df = add_df.append(train_df, ignore_index = True)\n",
    "    print(len(train_df))\n",
    "    print('read csv: {} seconds'.format(time.process_time() - start))\n",
    "\n",
    "add_df = add_df[train_df.columns]\n",
    "order = add_df.loadingOrder.unique()\n",
    "print(order)\n",
    "add_df.to_csv('../../../dataset/train_data/add_data1.csv', index = False)\n",
    "print('finished!')"
   ]
  },
  {
   "cell_type": "code",
   "execution_count": null,
   "metadata": {},
   "outputs": [],
   "source": []
  }
 ],
 "metadata": {
  "kernelspec": {
   "display_name": "Python 3",
   "language": "python",
   "name": "python3"
  },
  "language_info": {
   "codemirror_mode": {
    "name": "ipython",
    "version": 3
   },
   "file_extension": ".py",
   "mimetype": "text/x-python",
   "name": "python",
   "nbconvert_exporter": "python",
   "pygments_lexer": "ipython3",
   "version": "3.7.6"
  }
 },
 "nbformat": 4,
 "nbformat_minor": 4
}
